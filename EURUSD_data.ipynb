{
 "cells": [
  {
   "cell_type": "code",
   "execution_count": 1,
   "metadata": {},
   "outputs": [],
   "source": [
    "%load_ext zipline\n",
    "\n",
    "import numpy as np\n",
    "import matplotlib.pyplot as plt\n",
    "import pandas as pd\n",
    "from yahoofinancials import YahooFinancials"
   ]
  },
  {
   "cell_type": "code",
   "execution_count": 2,
   "metadata": {},
   "outputs": [],
   "source": [
    "def download_csv_data(ticker, start_date, end_date, freq, path):\n",
    "    \n",
    "    yahoo_financials = YahooFinancials(ticker)\n",
    "\n",
    "    df = yahoo_financials.get_historical_price_data(start_date, end_date, freq)\n",
    "    df = pd.DataFrame(df[ticker]['prices']).drop(['date'], axis=1) \\\n",
    "            .rename(columns={'formatted_date':'date'}) \\\n",
    "            .loc[:, ['date','open','high','low','close','volume']] \\\n",
    "            .set_index('date')\n",
    "    df.index = pd.to_datetime(df.index)\n",
    "    df['dividend'] = 0\n",
    "    df['split'] = 1\n",
    "\n",
    "    # save data to csv for later ingestion\n",
    "    df.to_csv(path, header=True, index=True)\n",
    "\n",
    "    # plot the time series\n",
    "    df.close.plot(title='{} prices --- {}:{}'.format(ticker, start_date, end_date));"
   ]
  },
  {
   "cell_type": "code",
   "execution_count": null,
   "metadata": {},
   "outputs": [],
   "source": [
    "download_csv_data(ticker='EURPLN', \n",
    "                  start_date='2017-01-01', \n",
    "                  end_date='2017-12-31', \n",
    "                  freq='daily', \n",
    "                  path='C:/Users/Sela#/Documents/Jupyter Projects/Data/eurusd.csv')"
   ]
  }
 ],
 "metadata": {
  "kernelspec": {
   "display_name": "Python (zipline)",
   "language": "python",
   "name": "env_zipline"
  },
  "language_info": {
   "codemirror_mode": {
    "name": "ipython",
    "version": 3
   },
   "file_extension": ".py",
   "mimetype": "text/x-python",
   "name": "python",
   "nbconvert_exporter": "python",
   "pygments_lexer": "ipython3",
   "version": "3.5.6"
  }
 },
 "nbformat": 4,
 "nbformat_minor": 2
}
